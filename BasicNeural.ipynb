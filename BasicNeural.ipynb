{
  "nbformat": 4,
  "nbformat_minor": 0,
  "metadata": {
    "colab": {
      "name": "1402Dataset.ipynb",
      "provenance": [],
      "collapsed_sections": [],
      "authorship_tag": "ABX9TyPPiUSHyL2ofCEMOZO7Y9ZV",
      "include_colab_link": true
    },
    "kernelspec": {
      "name": "python3",
      "display_name": "Python 3"
    },
    "language_info": {
      "name": "python"
    }
  },
  "cells": [
    {
      "cell_type": "markdown",
      "metadata": {
        "id": "view-in-github",
        "colab_type": "text"
      },
      "source": [
        "<a href=\"https://colab.research.google.com/github/SobuzDas/ML-Project/blob/main/BasicNeural.ipynb\" target=\"_parent\"><img src=\"https://colab.research.google.com/assets/colab-badge.svg\" alt=\"Open In Colab\"/></a>"
      ]
    },
    {
      "cell_type": "code",
      "execution_count": 2,
      "metadata": {
        "colab": {
          "base_uri": "https://localhost:8080/"
        },
        "id": "brozr3uM8Ugs",
        "outputId": "a3c07343-a005-4beb-926c-3ed462da0eaf"
      },
      "outputs": [
        {
          "output_type": "stream",
          "name": "stdout",
          "text": [
            "Mounted at /content/drive\n"
          ]
        }
      ],
      "source": [
        "from google.colab import drive\n",
        "drive.mount('/content/drive')\n"
      ]
    },
    {
      "cell_type": "code",
      "source": [
        "import numpy as np\n",
        "import pandas as pd"
      ],
      "metadata": {
        "id": "Y7bH2jo69VkT"
      },
      "execution_count": 3,
      "outputs": []
    },
    {
      "cell_type": "code",
      "source": [
        "dataset = pd.read_csv('/content/drive/MyDrive/Colab Dataset-1/Social_Network_Ads.csv - Social_Network_Ads.csv.csv')\n",
        "x = dataset.iloc[:, [1,2,3]].values\n",
        "y = dataset.iloc[:, -1].values"
      ],
      "metadata": {
        "id": "VfOEwco_9zQ3"
      },
      "execution_count": 4,
      "outputs": []
    },
    {
      "cell_type": "code",
      "source": [
        "print (x)"
      ],
      "metadata": {
        "colab": {
          "base_uri": "https://localhost:8080/"
        },
        "id": "Q3LSpAu7_kdc",
        "outputId": "13af021c-597a-4cb7-ba97-42007e0e96f8"
      },
      "execution_count": 5,
      "outputs": [
        {
          "output_type": "stream",
          "name": "stdout",
          "text": [
            "[['Male' 19 19000]\n",
            " ['Male' 35 20000]\n",
            " ['Female' 26 43000]\n",
            " ...\n",
            " ['Female' 50 20000]\n",
            " ['Male' 36 33000]\n",
            " ['Female' 49 36000]]\n"
          ]
        }
      ]
    },
    {
      "cell_type": "code",
      "source": [
        "print (y)"
      ],
      "metadata": {
        "colab": {
          "base_uri": "https://localhost:8080/"
        },
        "id": "adUh0OsJ_wLi",
        "outputId": "526f8d32-190d-48ce-fa38-377cc38d4de9"
      },
      "execution_count": 6,
      "outputs": [
        {
          "output_type": "stream",
          "name": "stdout",
          "text": [
            "[0 0 0 0 0 0 0 1 0 0 0 0 0 0 0 0 1 1 1 1 1 1 1 1 1 1 1 1 0 0 0 1 0 0 0 0 0\n",
            " 0 0 0 0 0 0 0 0 0 0 0 1 0 0 0 0 0 0 0 0 0 0 0 0 0 0 1 0 0 0 0 0 0 0 0 0 0\n",
            " 0 1 0 0 0 0 0 0 0 0 0 1 0 0 0 0 0 0 0 0 0 0 0 1 0 0 0 0 0 1 0 0 0 0 0 0 0\n",
            " 0 0 0 0 0 0 0 0 0 0 0 0 0 0 0 0 0 0 0 0 0 0 0 0 0 0 1 0 0 0 0 0 0 0 0 1 0\n",
            " 0 0 0 0 0 0 0 0 0 0 0 1 1 0 0 0 0 0 0 0 1 0 0 0 0 0 0 0 0 0 0 0 0 0 1 0 0\n",
            " 0 0 0 0 0 0 0 0 0 0 0 0 0 0 0 0 0 1 0 1 0 1 0 1 0 1 1 0 0 0 1 0 0 0 1 0 1\n",
            " 1 1 0 0 1 1 0 1 1 0 1 1 0 1 0 0 0 1 1 0 1 1 0 1 0 1 0 1 0 0 1 1 0 1 0 0 1\n",
            " 1 0 1 1 0 1 1 0 0 1 0 0 1 1 1 1 1 0 1 1 1 1 0 1 1 0 1 0 1 0 1 1 1 1 0 0 0\n",
            " 1 1 0 1 1 1 1 1 0 0 0 1 1 0 0 1 0 1 0 1 1 0 1 0 1 1 0 1 1 0 0 0 1 1 0 1 0\n",
            " 0 1 0 1 0 0 1 1 0 0 1 1 0 1 1 0 0 1 0 1 0 1 1 1 0 1 0 1 1 1 0 1 1 1 1 0 1\n",
            " 1 1 0 1 0 1 0 0 1 1 0 1 1 1 1 1 1 0 1 1 1 1 1 1 0 1 1 1 0 1]\n"
          ]
        }
      ]
    },
    {
      "cell_type": "code",
      "source": [
        "dataset"
      ],
      "metadata": {
        "colab": {
          "base_uri": "https://localhost:8080/",
          "height": 423
        },
        "id": "qdAuvz3YAtHk",
        "outputId": "6596e091-bec1-456c-984d-c818af92a3c6"
      },
      "execution_count": 7,
      "outputs": [
        {
          "output_type": "execute_result",
          "data": {
            "text/html": [
              "\n",
              "  <div id=\"df-a9edca18-d16d-4de1-b70b-f9700bcfe4f8\">\n",
              "    <div class=\"colab-df-container\">\n",
              "      <div>\n",
              "<style scoped>\n",
              "    .dataframe tbody tr th:only-of-type {\n",
              "        vertical-align: middle;\n",
              "    }\n",
              "\n",
              "    .dataframe tbody tr th {\n",
              "        vertical-align: top;\n",
              "    }\n",
              "\n",
              "    .dataframe thead th {\n",
              "        text-align: right;\n",
              "    }\n",
              "</style>\n",
              "<table border=\"1\" class=\"dataframe\">\n",
              "  <thead>\n",
              "    <tr style=\"text-align: right;\">\n",
              "      <th></th>\n",
              "      <th>User ID</th>\n",
              "      <th>Gender</th>\n",
              "      <th>Age</th>\n",
              "      <th>EstimatedSalary</th>\n",
              "      <th>Purchased</th>\n",
              "    </tr>\n",
              "  </thead>\n",
              "  <tbody>\n",
              "    <tr>\n",
              "      <th>0</th>\n",
              "      <td>15624510</td>\n",
              "      <td>Male</td>\n",
              "      <td>19</td>\n",
              "      <td>19000</td>\n",
              "      <td>0</td>\n",
              "    </tr>\n",
              "    <tr>\n",
              "      <th>1</th>\n",
              "      <td>15810944</td>\n",
              "      <td>Male</td>\n",
              "      <td>35</td>\n",
              "      <td>20000</td>\n",
              "      <td>0</td>\n",
              "    </tr>\n",
              "    <tr>\n",
              "      <th>2</th>\n",
              "      <td>15668575</td>\n",
              "      <td>Female</td>\n",
              "      <td>26</td>\n",
              "      <td>43000</td>\n",
              "      <td>0</td>\n",
              "    </tr>\n",
              "    <tr>\n",
              "      <th>3</th>\n",
              "      <td>15603246</td>\n",
              "      <td>Female</td>\n",
              "      <td>27</td>\n",
              "      <td>57000</td>\n",
              "      <td>0</td>\n",
              "    </tr>\n",
              "    <tr>\n",
              "      <th>4</th>\n",
              "      <td>15804002</td>\n",
              "      <td>Male</td>\n",
              "      <td>19</td>\n",
              "      <td>76000</td>\n",
              "      <td>0</td>\n",
              "    </tr>\n",
              "    <tr>\n",
              "      <th>...</th>\n",
              "      <td>...</td>\n",
              "      <td>...</td>\n",
              "      <td>...</td>\n",
              "      <td>...</td>\n",
              "      <td>...</td>\n",
              "    </tr>\n",
              "    <tr>\n",
              "      <th>395</th>\n",
              "      <td>15691863</td>\n",
              "      <td>Female</td>\n",
              "      <td>46</td>\n",
              "      <td>41000</td>\n",
              "      <td>1</td>\n",
              "    </tr>\n",
              "    <tr>\n",
              "      <th>396</th>\n",
              "      <td>15706071</td>\n",
              "      <td>Male</td>\n",
              "      <td>51</td>\n",
              "      <td>23000</td>\n",
              "      <td>1</td>\n",
              "    </tr>\n",
              "    <tr>\n",
              "      <th>397</th>\n",
              "      <td>15654296</td>\n",
              "      <td>Female</td>\n",
              "      <td>50</td>\n",
              "      <td>20000</td>\n",
              "      <td>1</td>\n",
              "    </tr>\n",
              "    <tr>\n",
              "      <th>398</th>\n",
              "      <td>15755018</td>\n",
              "      <td>Male</td>\n",
              "      <td>36</td>\n",
              "      <td>33000</td>\n",
              "      <td>0</td>\n",
              "    </tr>\n",
              "    <tr>\n",
              "      <th>399</th>\n",
              "      <td>15594041</td>\n",
              "      <td>Female</td>\n",
              "      <td>49</td>\n",
              "      <td>36000</td>\n",
              "      <td>1</td>\n",
              "    </tr>\n",
              "  </tbody>\n",
              "</table>\n",
              "<p>400 rows × 5 columns</p>\n",
              "</div>\n",
              "      <button class=\"colab-df-convert\" onclick=\"convertToInteractive('df-a9edca18-d16d-4de1-b70b-f9700bcfe4f8')\"\n",
              "              title=\"Convert this dataframe to an interactive table.\"\n",
              "              style=\"display:none;\">\n",
              "        \n",
              "  <svg xmlns=\"http://www.w3.org/2000/svg\" height=\"24px\"viewBox=\"0 0 24 24\"\n",
              "       width=\"24px\">\n",
              "    <path d=\"M0 0h24v24H0V0z\" fill=\"none\"/>\n",
              "    <path d=\"M18.56 5.44l.94 2.06.94-2.06 2.06-.94-2.06-.94-.94-2.06-.94 2.06-2.06.94zm-11 1L8.5 8.5l.94-2.06 2.06-.94-2.06-.94L8.5 2.5l-.94 2.06-2.06.94zm10 10l.94 2.06.94-2.06 2.06-.94-2.06-.94-.94-2.06-.94 2.06-2.06.94z\"/><path d=\"M17.41 7.96l-1.37-1.37c-.4-.4-.92-.59-1.43-.59-.52 0-1.04.2-1.43.59L10.3 9.45l-7.72 7.72c-.78.78-.78 2.05 0 2.83L4 21.41c.39.39.9.59 1.41.59.51 0 1.02-.2 1.41-.59l7.78-7.78 2.81-2.81c.8-.78.8-2.07 0-2.86zM5.41 20L4 18.59l7.72-7.72 1.47 1.35L5.41 20z\"/>\n",
              "  </svg>\n",
              "      </button>\n",
              "      \n",
              "  <style>\n",
              "    .colab-df-container {\n",
              "      display:flex;\n",
              "      flex-wrap:wrap;\n",
              "      gap: 12px;\n",
              "    }\n",
              "\n",
              "    .colab-df-convert {\n",
              "      background-color: #E8F0FE;\n",
              "      border: none;\n",
              "      border-radius: 50%;\n",
              "      cursor: pointer;\n",
              "      display: none;\n",
              "      fill: #1967D2;\n",
              "      height: 32px;\n",
              "      padding: 0 0 0 0;\n",
              "      width: 32px;\n",
              "    }\n",
              "\n",
              "    .colab-df-convert:hover {\n",
              "      background-color: #E2EBFA;\n",
              "      box-shadow: 0px 1px 2px rgba(60, 64, 67, 0.3), 0px 1px 3px 1px rgba(60, 64, 67, 0.15);\n",
              "      fill: #174EA6;\n",
              "    }\n",
              "\n",
              "    [theme=dark] .colab-df-convert {\n",
              "      background-color: #3B4455;\n",
              "      fill: #D2E3FC;\n",
              "    }\n",
              "\n",
              "    [theme=dark] .colab-df-convert:hover {\n",
              "      background-color: #434B5C;\n",
              "      box-shadow: 0px 1px 3px 1px rgba(0, 0, 0, 0.15);\n",
              "      filter: drop-shadow(0px 1px 2px rgba(0, 0, 0, 0.3));\n",
              "      fill: #FFFFFF;\n",
              "    }\n",
              "  </style>\n",
              "\n",
              "      <script>\n",
              "        const buttonEl =\n",
              "          document.querySelector('#df-a9edca18-d16d-4de1-b70b-f9700bcfe4f8 button.colab-df-convert');\n",
              "        buttonEl.style.display =\n",
              "          google.colab.kernel.accessAllowed ? 'block' : 'none';\n",
              "\n",
              "        async function convertToInteractive(key) {\n",
              "          const element = document.querySelector('#df-a9edca18-d16d-4de1-b70b-f9700bcfe4f8');\n",
              "          const dataTable =\n",
              "            await google.colab.kernel.invokeFunction('convertToInteractive',\n",
              "                                                     [key], {});\n",
              "          if (!dataTable) return;\n",
              "\n",
              "          const docLinkHtml = 'Like what you see? Visit the ' +\n",
              "            '<a target=\"_blank\" href=https://colab.research.google.com/notebooks/data_table.ipynb>data table notebook</a>'\n",
              "            + ' to learn more about interactive tables.';\n",
              "          element.innerHTML = '';\n",
              "          dataTable['output_type'] = 'display_data';\n",
              "          await google.colab.output.renderOutput(dataTable, element);\n",
              "          const docLink = document.createElement('div');\n",
              "          docLink.innerHTML = docLinkHtml;\n",
              "          element.appendChild(docLink);\n",
              "        }\n",
              "      </script>\n",
              "    </div>\n",
              "  </div>\n",
              "  "
            ],
            "text/plain": [
              "      User ID  Gender  Age  EstimatedSalary  Purchased\n",
              "0    15624510    Male   19            19000          0\n",
              "1    15810944    Male   35            20000          0\n",
              "2    15668575  Female   26            43000          0\n",
              "3    15603246  Female   27            57000          0\n",
              "4    15804002    Male   19            76000          0\n",
              "..        ...     ...  ...              ...        ...\n",
              "395  15691863  Female   46            41000          1\n",
              "396  15706071    Male   51            23000          1\n",
              "397  15654296  Female   50            20000          1\n",
              "398  15755018    Male   36            33000          0\n",
              "399  15594041  Female   49            36000          1\n",
              "\n",
              "[400 rows x 5 columns]"
            ]
          },
          "metadata": {},
          "execution_count": 7
        }
      ]
    },
    {
      "cell_type": "code",
      "source": [
        "from sklearn.preprocessing import LabelEncoder\n",
        "le = LabelEncoder()\n",
        "x[:,0] = le.fit_transform(x[:,0])"
      ],
      "metadata": {
        "id": "nPazAuDGGUHo"
      },
      "execution_count": 8,
      "outputs": []
    },
    {
      "cell_type": "code",
      "source": [
        "from sklearn.preprocessing import MinMaxScaler\n",
        "sc = MinMaxScaler()\n",
        "x = sc.fit_transform(x)"
      ],
      "metadata": {
        "id": "FG-7ewRjHCiL"
      },
      "execution_count": 9,
      "outputs": []
    },
    {
      "cell_type": "code",
      "source": [
        ""
      ],
      "metadata": {
        "id": "M2RT42YBKxGM"
      },
      "execution_count": 9,
      "outputs": []
    },
    {
      "cell_type": "code",
      "source": [
        "x\n"
      ],
      "metadata": {
        "colab": {
          "base_uri": "https://localhost:8080/"
        },
        "id": "W9cNS7viHgeu",
        "outputId": "2ed2e590-06d5-4d09-cdbb-fd7444f1d3f4"
      },
      "execution_count": 10,
      "outputs": [
        {
          "output_type": "execute_result",
          "data": {
            "text/plain": [
              "array([[1.        , 0.02380952, 0.02962963],\n",
              "       [1.        , 0.4047619 , 0.03703704],\n",
              "       [0.        , 0.19047619, 0.20740741],\n",
              "       ...,\n",
              "       [0.        , 0.76190476, 0.03703704],\n",
              "       [1.        , 0.42857143, 0.13333333],\n",
              "       [0.        , 0.73809524, 0.15555556]])"
            ]
          },
          "metadata": {},
          "execution_count": 10
        }
      ]
    },
    {
      "cell_type": "code",
      "source": [
        "x.shape\n"
      ],
      "metadata": {
        "colab": {
          "base_uri": "https://localhost:8080/"
        },
        "id": "3cZQYE2bKoNc",
        "outputId": "1c664cfc-db91-486d-9fab-a4ed7bf1332d"
      },
      "execution_count": 11,
      "outputs": [
        {
          "output_type": "execute_result",
          "data": {
            "text/plain": [
              "(400, 3)"
            ]
          },
          "metadata": {},
          "execution_count": 11
        }
      ]
    },
    {
      "cell_type": "code",
      "source": [
        "from sklearn.model_selection import train_test_split\n",
        "x_train, x_test, y_train, y_test = train_test_split(x, y, test_size = 0.30, random_state=42)"
      ],
      "metadata": {
        "id": "XZTieeDkK8fi"
      },
      "execution_count": 12,
      "outputs": []
    },
    {
      "cell_type": "code",
      "source": [
        "x_train.shape"
      ],
      "metadata": {
        "colab": {
          "base_uri": "https://localhost:8080/"
        },
        "id": "eNkWxa4LLuTN",
        "outputId": "aef90656-6832-4092-fc88-d731f4846322"
      },
      "execution_count": 13,
      "outputs": [
        {
          "output_type": "execute_result",
          "data": {
            "text/plain": [
              "(280, 3)"
            ]
          },
          "metadata": {},
          "execution_count": 13
        }
      ]
    },
    {
      "cell_type": "code",
      "source": [
        "multiclass_y=[1,2,2,2,2,3,1,2,3,4]"
      ],
      "metadata": {
        "id": "NhLFYutyW_aO"
      },
      "execution_count": 14,
      "outputs": []
    },
    {
      "cell_type": "code",
      "source": [
        "from sklearn.preprocessing import LabelBinarizer\n",
        "lb = LabelBinarizer()\n",
        "label_list = lb.fit_transform(multiclass_y)"
      ],
      "metadata": {
        "id": "J1Yz-yMhXONy"
      },
      "execution_count": 15,
      "outputs": []
    },
    {
      "cell_type": "code",
      "source": [
        ""
      ],
      "metadata": {
        "id": "ExeyVK83GJ9j"
      },
      "execution_count": 15,
      "outputs": []
    },
    {
      "cell_type": "code",
      "source": [
        "label_list\n"
      ],
      "metadata": {
        "colab": {
          "base_uri": "https://localhost:8080/"
        },
        "id": "eaEvb6maXeGk",
        "outputId": "a12f6af9-c2ed-4fff-aea8-e1a883d092b4"
      },
      "execution_count": 16,
      "outputs": [
        {
          "output_type": "execute_result",
          "data": {
            "text/plain": [
              "array([[1, 0, 0, 0],\n",
              "       [0, 1, 0, 0],\n",
              "       [0, 1, 0, 0],\n",
              "       [0, 1, 0, 0],\n",
              "       [0, 1, 0, 0],\n",
              "       [0, 0, 1, 0],\n",
              "       [1, 0, 0, 0],\n",
              "       [0, 1, 0, 0],\n",
              "       [0, 0, 1, 0],\n",
              "       [0, 0, 0, 1]])"
            ]
          },
          "metadata": {},
          "execution_count": 16
        }
      ]
    },
    {
      "cell_type": "code",
      "source": [
        "from tensorflow.keras.models import Sequential\n",
        "from tensorflow.keras.layers import Dense"
      ],
      "metadata": {
        "id": "d2iz-NtXGLbr"
      },
      "execution_count": 17,
      "outputs": []
    },
    {
      "cell_type": "code",
      "source": [
        "model = Sequential()\n",
        "model.add(Dense(12, input_dim=3, activation='relu'))\n",
        "model.add(Dense(8, activation='relu'))\n",
        "model.add(Dense(1, activation='sigmoid'))\n",
        "\n",
        "model.compile(loss='binary_crossentropy', optimizer='adam', metrics=['accuracy'])\n",
        "\n"
      ],
      "metadata": {
        "id": "7wFJzWDFJpkx"
      },
      "execution_count": 18,
      "outputs": []
    },
    {
      "cell_type": "code",
      "source": [
        ""
      ],
      "metadata": {
        "id": "J4TPKQrBGeJ6"
      },
      "execution_count": 18,
      "outputs": []
    },
    {
      "cell_type": "code",
      "source": [
        "model.summary()\n"
      ],
      "metadata": {
        "colab": {
          "base_uri": "https://localhost:8080/"
        },
        "id": "LzE5SYofS1S2",
        "outputId": "9d781a0a-6205-4d0a-9434-b59bbe149701"
      },
      "execution_count": 19,
      "outputs": [
        {
          "output_type": "stream",
          "name": "stdout",
          "text": [
            "Model: \"sequential\"\n",
            "_________________________________________________________________\n",
            " Layer (type)                Output Shape              Param #   \n",
            "=================================================================\n",
            " dense (Dense)               (None, 12)                48        \n",
            "                                                                 \n",
            " dense_1 (Dense)             (None, 8)                 104       \n",
            "                                                                 \n",
            " dense_2 (Dense)             (None, 1)                 9         \n",
            "                                                                 \n",
            "=================================================================\n",
            "Total params: 161\n",
            "Trainable params: 161\n",
            "Non-trainable params: 0\n",
            "_________________________________________________________________\n"
          ]
        }
      ]
    },
    {
      "cell_type": "code",
      "source": [
        ""
      ],
      "metadata": {
        "id": "mzFwDiUkGgEk"
      },
      "execution_count": 19,
      "outputs": []
    },
    {
      "cell_type": "code",
      "source": [
        "hist = model.fit(x_train,y_train, epochs =100, batch_size= 32)"
      ],
      "metadata": {
        "colab": {
          "base_uri": "https://localhost:8080/"
        },
        "id": "FcH-7EcaIeI-",
        "outputId": "721e26b1-a3cf-42ed-de43-1f92fb9a2de5"
      },
      "execution_count": 20,
      "outputs": [
        {
          "output_type": "stream",
          "name": "stdout",
          "text": [
            "Epoch 1/100\n",
            "9/9 [==============================] - 1s 3ms/step - loss: 0.6859 - accuracy: 0.5393\n",
            "Epoch 2/100\n",
            "9/9 [==============================] - 0s 3ms/step - loss: 0.6815 - accuracy: 0.6643\n",
            "Epoch 3/100\n",
            "9/9 [==============================] - 0s 4ms/step - loss: 0.6782 - accuracy: 0.7000\n",
            "Epoch 4/100\n",
            "9/9 [==============================] - 0s 2ms/step - loss: 0.6747 - accuracy: 0.6750\n",
            "Epoch 5/100\n",
            "9/9 [==============================] - 0s 3ms/step - loss: 0.6715 - accuracy: 0.6571\n",
            "Epoch 6/100\n",
            "9/9 [==============================] - 0s 2ms/step - loss: 0.6683 - accuracy: 0.6571\n",
            "Epoch 7/100\n",
            "9/9 [==============================] - 0s 3ms/step - loss: 0.6652 - accuracy: 0.6571\n",
            "Epoch 8/100\n",
            "9/9 [==============================] - 0s 3ms/step - loss: 0.6627 - accuracy: 0.6571\n",
            "Epoch 9/100\n",
            "9/9 [==============================] - 0s 3ms/step - loss: 0.6597 - accuracy: 0.6571\n",
            "Epoch 10/100\n",
            "9/9 [==============================] - 0s 2ms/step - loss: 0.6570 - accuracy: 0.6571\n",
            "Epoch 11/100\n",
            "9/9 [==============================] - 0s 2ms/step - loss: 0.6546 - accuracy: 0.6571\n",
            "Epoch 12/100\n",
            "9/9 [==============================] - 0s 2ms/step - loss: 0.6519 - accuracy: 0.6571\n",
            "Epoch 13/100\n",
            "9/9 [==============================] - 0s 2ms/step - loss: 0.6492 - accuracy: 0.6571\n",
            "Epoch 14/100\n",
            "9/9 [==============================] - 0s 2ms/step - loss: 0.6466 - accuracy: 0.6571\n",
            "Epoch 15/100\n",
            "9/9 [==============================] - 0s 3ms/step - loss: 0.6439 - accuracy: 0.6571\n",
            "Epoch 16/100\n",
            "9/9 [==============================] - 0s 2ms/step - loss: 0.6410 - accuracy: 0.6571\n",
            "Epoch 17/100\n",
            "9/9 [==============================] - 0s 2ms/step - loss: 0.6380 - accuracy: 0.6571\n",
            "Epoch 18/100\n",
            "9/9 [==============================] - 0s 2ms/step - loss: 0.6350 - accuracy: 0.6571\n",
            "Epoch 19/100\n",
            "9/9 [==============================] - 0s 3ms/step - loss: 0.6314 - accuracy: 0.6571\n",
            "Epoch 20/100\n",
            "9/9 [==============================] - 0s 3ms/step - loss: 0.6279 - accuracy: 0.6571\n",
            "Epoch 21/100\n",
            "9/9 [==============================] - 0s 2ms/step - loss: 0.6240 - accuracy: 0.6571\n",
            "Epoch 22/100\n",
            "9/9 [==============================] - 0s 3ms/step - loss: 0.6201 - accuracy: 0.6571\n",
            "Epoch 23/100\n",
            "9/9 [==============================] - 0s 3ms/step - loss: 0.6158 - accuracy: 0.6607\n",
            "Epoch 24/100\n",
            "9/9 [==============================] - 0s 3ms/step - loss: 0.6112 - accuracy: 0.6679\n",
            "Epoch 25/100\n",
            "9/9 [==============================] - 0s 2ms/step - loss: 0.6063 - accuracy: 0.6750\n",
            "Epoch 26/100\n",
            "9/9 [==============================] - 0s 2ms/step - loss: 0.6013 - accuracy: 0.6821\n",
            "Epoch 27/100\n",
            "9/9 [==============================] - 0s 2ms/step - loss: 0.5959 - accuracy: 0.6964\n",
            "Epoch 28/100\n",
            "9/9 [==============================] - 0s 2ms/step - loss: 0.5901 - accuracy: 0.7071\n",
            "Epoch 29/100\n",
            "9/9 [==============================] - 0s 2ms/step - loss: 0.5846 - accuracy: 0.7036\n",
            "Epoch 30/100\n",
            "9/9 [==============================] - 0s 2ms/step - loss: 0.5788 - accuracy: 0.7143\n",
            "Epoch 31/100\n",
            "9/9 [==============================] - 0s 3ms/step - loss: 0.5729 - accuracy: 0.7107\n",
            "Epoch 32/100\n",
            "9/9 [==============================] - 0s 3ms/step - loss: 0.5665 - accuracy: 0.7286\n",
            "Epoch 33/100\n",
            "9/9 [==============================] - 0s 3ms/step - loss: 0.5604 - accuracy: 0.7286\n",
            "Epoch 34/100\n",
            "9/9 [==============================] - 0s 3ms/step - loss: 0.5538 - accuracy: 0.7321\n",
            "Epoch 35/100\n",
            "9/9 [==============================] - 0s 2ms/step - loss: 0.5476 - accuracy: 0.7321\n",
            "Epoch 36/100\n",
            "9/9 [==============================] - 0s 2ms/step - loss: 0.5409 - accuracy: 0.7357\n",
            "Epoch 37/100\n",
            "9/9 [==============================] - 0s 3ms/step - loss: 0.5339 - accuracy: 0.7393\n",
            "Epoch 38/100\n",
            "9/9 [==============================] - 0s 2ms/step - loss: 0.5270 - accuracy: 0.7393\n",
            "Epoch 39/100\n",
            "9/9 [==============================] - 0s 3ms/step - loss: 0.5203 - accuracy: 0.7464\n",
            "Epoch 40/100\n",
            "9/9 [==============================] - 0s 2ms/step - loss: 0.5139 - accuracy: 0.7536\n",
            "Epoch 41/100\n",
            "9/9 [==============================] - 0s 2ms/step - loss: 0.5066 - accuracy: 0.7571\n",
            "Epoch 42/100\n",
            "9/9 [==============================] - 0s 2ms/step - loss: 0.4997 - accuracy: 0.7607\n",
            "Epoch 43/100\n",
            "9/9 [==============================] - 0s 3ms/step - loss: 0.4917 - accuracy: 0.7679\n",
            "Epoch 44/100\n",
            "9/9 [==============================] - 0s 3ms/step - loss: 0.4825 - accuracy: 0.7750\n",
            "Epoch 45/100\n",
            "9/9 [==============================] - 0s 3ms/step - loss: 0.4736 - accuracy: 0.7893\n",
            "Epoch 46/100\n",
            "9/9 [==============================] - 0s 3ms/step - loss: 0.4653 - accuracy: 0.8036\n",
            "Epoch 47/100\n",
            "9/9 [==============================] - 0s 3ms/step - loss: 0.4570 - accuracy: 0.8036\n",
            "Epoch 48/100\n",
            "9/9 [==============================] - 0s 2ms/step - loss: 0.4474 - accuracy: 0.8071\n",
            "Epoch 49/100\n",
            "9/9 [==============================] - 0s 2ms/step - loss: 0.4385 - accuracy: 0.8071\n",
            "Epoch 50/100\n",
            "9/9 [==============================] - 0s 2ms/step - loss: 0.4295 - accuracy: 0.8214\n",
            "Epoch 51/100\n",
            "9/9 [==============================] - 0s 3ms/step - loss: 0.4207 - accuracy: 0.8286\n",
            "Epoch 52/100\n",
            "9/9 [==============================] - 0s 3ms/step - loss: 0.4138 - accuracy: 0.8357\n",
            "Epoch 53/100\n",
            "9/9 [==============================] - 0s 3ms/step - loss: 0.4072 - accuracy: 0.8357\n",
            "Epoch 54/100\n",
            "9/9 [==============================] - 0s 3ms/step - loss: 0.4018 - accuracy: 0.8286\n",
            "Epoch 55/100\n",
            "9/9 [==============================] - 0s 2ms/step - loss: 0.3967 - accuracy: 0.8250\n",
            "Epoch 56/100\n",
            "9/9 [==============================] - 0s 3ms/step - loss: 0.3929 - accuracy: 0.8179\n",
            "Epoch 57/100\n",
            "9/9 [==============================] - 0s 3ms/step - loss: 0.3903 - accuracy: 0.8357\n",
            "Epoch 58/100\n",
            "9/9 [==============================] - 0s 3ms/step - loss: 0.3843 - accuracy: 0.8429\n",
            "Epoch 59/100\n",
            "9/9 [==============================] - 0s 3ms/step - loss: 0.3807 - accuracy: 0.8321\n",
            "Epoch 60/100\n",
            "9/9 [==============================] - 0s 3ms/step - loss: 0.3785 - accuracy: 0.8286\n",
            "Epoch 61/100\n",
            "9/9 [==============================] - 0s 4ms/step - loss: 0.3743 - accuracy: 0.8429\n",
            "Epoch 62/100\n",
            "9/9 [==============================] - 0s 3ms/step - loss: 0.3723 - accuracy: 0.8464\n",
            "Epoch 63/100\n",
            "9/9 [==============================] - 0s 4ms/step - loss: 0.3684 - accuracy: 0.8500\n",
            "Epoch 64/100\n",
            "9/9 [==============================] - 0s 4ms/step - loss: 0.3659 - accuracy: 0.8429\n",
            "Epoch 65/100\n",
            "9/9 [==============================] - 0s 2ms/step - loss: 0.3631 - accuracy: 0.8464\n",
            "Epoch 66/100\n",
            "9/9 [==============================] - 0s 3ms/step - loss: 0.3611 - accuracy: 0.8464\n",
            "Epoch 67/100\n",
            "9/9 [==============================] - 0s 3ms/step - loss: 0.3588 - accuracy: 0.8571\n",
            "Epoch 68/100\n",
            "9/9 [==============================] - 0s 3ms/step - loss: 0.3567 - accuracy: 0.8429\n",
            "Epoch 69/100\n",
            "9/9 [==============================] - 0s 2ms/step - loss: 0.3546 - accuracy: 0.8464\n",
            "Epoch 70/100\n",
            "9/9 [==============================] - 0s 2ms/step - loss: 0.3530 - accuracy: 0.8500\n",
            "Epoch 71/100\n",
            "9/9 [==============================] - 0s 2ms/step - loss: 0.3504 - accuracy: 0.8607\n",
            "Epoch 72/100\n",
            "9/9 [==============================] - 0s 2ms/step - loss: 0.3489 - accuracy: 0.8607\n",
            "Epoch 73/100\n",
            "9/9 [==============================] - 0s 3ms/step - loss: 0.3478 - accuracy: 0.8464\n",
            "Epoch 74/100\n",
            "9/9 [==============================] - 0s 3ms/step - loss: 0.3464 - accuracy: 0.8500\n",
            "Epoch 75/100\n",
            "9/9 [==============================] - 0s 2ms/step - loss: 0.3444 - accuracy: 0.8571\n",
            "Epoch 76/100\n",
            "9/9 [==============================] - 0s 3ms/step - loss: 0.3424 - accuracy: 0.8571\n",
            "Epoch 77/100\n",
            "9/9 [==============================] - 0s 2ms/step - loss: 0.3412 - accuracy: 0.8571\n",
            "Epoch 78/100\n",
            "9/9 [==============================] - 0s 3ms/step - loss: 0.3399 - accuracy: 0.8607\n",
            "Epoch 79/100\n",
            "9/9 [==============================] - 0s 2ms/step - loss: 0.3379 - accuracy: 0.8607\n",
            "Epoch 80/100\n",
            "9/9 [==============================] - 0s 3ms/step - loss: 0.3373 - accuracy: 0.8643\n",
            "Epoch 81/100\n",
            "9/9 [==============================] - 0s 3ms/step - loss: 0.3355 - accuracy: 0.8607\n",
            "Epoch 82/100\n",
            "9/9 [==============================] - 0s 2ms/step - loss: 0.3345 - accuracy: 0.8571\n",
            "Epoch 83/100\n",
            "9/9 [==============================] - 0s 3ms/step - loss: 0.3328 - accuracy: 0.8607\n",
            "Epoch 84/100\n",
            "9/9 [==============================] - 0s 3ms/step - loss: 0.3314 - accuracy: 0.8607\n",
            "Epoch 85/100\n",
            "9/9 [==============================] - 0s 3ms/step - loss: 0.3301 - accuracy: 0.8643\n",
            "Epoch 86/100\n",
            "9/9 [==============================] - 0s 2ms/step - loss: 0.3293 - accuracy: 0.8643\n",
            "Epoch 87/100\n",
            "9/9 [==============================] - 0s 2ms/step - loss: 0.3289 - accuracy: 0.8643\n",
            "Epoch 88/100\n",
            "9/9 [==============================] - 0s 3ms/step - loss: 0.3269 - accuracy: 0.8643\n",
            "Epoch 89/100\n",
            "9/9 [==============================] - 0s 3ms/step - loss: 0.3258 - accuracy: 0.8643\n",
            "Epoch 90/100\n",
            "9/9 [==============================] - 0s 3ms/step - loss: 0.3247 - accuracy: 0.8643\n",
            "Epoch 91/100\n",
            "9/9 [==============================] - 0s 2ms/step - loss: 0.3232 - accuracy: 0.8643\n",
            "Epoch 92/100\n",
            "9/9 [==============================] - 0s 3ms/step - loss: 0.3228 - accuracy: 0.8643\n",
            "Epoch 93/100\n",
            "9/9 [==============================] - 0s 2ms/step - loss: 0.3212 - accuracy: 0.8643\n",
            "Epoch 94/100\n",
            "9/9 [==============================] - 0s 2ms/step - loss: 0.3204 - accuracy: 0.8643\n",
            "Epoch 95/100\n",
            "9/9 [==============================] - 0s 2ms/step - loss: 0.3200 - accuracy: 0.8643\n",
            "Epoch 96/100\n",
            "9/9 [==============================] - 0s 2ms/step - loss: 0.3181 - accuracy: 0.8643\n",
            "Epoch 97/100\n",
            "9/9 [==============================] - 0s 3ms/step - loss: 0.3180 - accuracy: 0.8643\n",
            "Epoch 98/100\n",
            "9/9 [==============================] - 0s 4ms/step - loss: 0.3163 - accuracy: 0.8643\n",
            "Epoch 99/100\n",
            "9/9 [==============================] - 0s 3ms/step - loss: 0.3158 - accuracy: 0.8679\n",
            "Epoch 100/100\n",
            "9/9 [==============================] - 0s 2ms/step - loss: 0.3160 - accuracy: 0.8643\n"
          ]
        }
      ]
    },
    {
      "cell_type": "code",
      "source": [
        "acc = hist.history['accuracy']\n",
        "loss = hist.history['loss'] "
      ],
      "metadata": {
        "id": "UD2-zjqqKVOl"
      },
      "execution_count": 21,
      "outputs": []
    },
    {
      "cell_type": "code",
      "source": [
        "from matplotlib import pyplot as plt\n",
        "plt.plot(hist.history['accuracy'])\n",
        "plt.title('model accuracy')\n",
        "plt.ylabel('accuracy')\n",
        "plt.xlabel('epoch')\n",
        "plt.legend(['train'], loc='upper left')\n",
        "plt.show()\n",
        "plt.savefig('accuracy_curve.png')"
      ],
      "metadata": {
        "colab": {
          "base_uri": "https://localhost:8080/",
          "height": 312
        },
        "id": "qZMX8zjSLPHI",
        "outputId": "e415d7a3-7b52-4f23-bcbc-7b64e7bdb0bd"
      },
      "execution_count": 22,
      "outputs": [
        {
          "output_type": "display_data",
          "data": {
            "image/png": "[encoded data removed]",
            "text/plain": [
              "<Figure size 432x288 with 1 Axes>"
            ]
          },
          "metadata": {
            "needs_background": "light"
          }
        },
        {
          "output_type": "display_data",
          "data": {
            "text/plain": [
              "<Figure size 432x288 with 0 Axes>"
            ]
          },
          "metadata": {}
        }
      ]
    },
    {
      "cell_type": "code",
      "source": [
        "plt.plot(hist.history['loss'])\n",
        "plt.title('model loss')\n",
        "plt.ylabel('loss')\n",
        "plt.xlabel('epoch')\n",
        "plt.legend(['train'], loc='upper left')\n",
        "plt.show()\n",
        "plt.savefig('loss_curve.png')\n"
      ],
      "metadata": {
        "colab": {
          "base_uri": "https://localhost:8080/",
          "height": 312
        },
        "id": "XjGJ2OcrPdOP",
        "outputId": "f744f290-d097-4a91-8d06-ef116a6430cd"
      },
      "execution_count": 23,
      "outputs": [
        {
          "output_type": "display_data",
          "data": {
            "image/png": "[encoded data removed]",
            "text/plain": [
              "<Figure size 432x288 with 1 Axes>"
            ]
          },
          "metadata": {
            "needs_background": "light"
          }
        },
        {
          "output_type": "display_data",
          "data": {
            "text/plain": [
              "<Figure size 432x288 with 0 Axes>"
            ]
          },
          "metadata": {}
        }
      ]
    },
    {
      "cell_type": "code",
      "source": [
        "history_test = model.evaluate(x_test, y_test)"
      ],
      "metadata": {
        "colab": {
          "base_uri": "https://localhost:8080/"
        },
        "id": "o9uv_suEQcKb",
        "outputId": "c3ff3bfa-1ac4-409e-8347-a381ae26a7ad"
      },
      "execution_count": 24,
      "outputs": [
        {
          "output_type": "stream",
          "name": "stdout",
          "text": [
            "4/4 [==============================] - 0s 3ms/step - loss: 0.2529 - accuracy: 0.8917\n"
          ]
        }
      ]
    },
    {
      "cell_type": "code",
      "source": [
        "history_test"
      ],
      "metadata": {
        "colab": {
          "base_uri": "https://localhost:8080/"
        },
        "id": "JKuxflMsRDdj",
        "outputId": "54d292c4-33a8-4fdb-9026-6972d976618b"
      },
      "execution_count": 25,
      "outputs": [
        {
          "output_type": "execute_result",
          "data": {
            "text/plain": [
              "[0.2529393434524536, 0.8916666507720947]"
            ]
          },
          "metadata": {},
          "execution_count": 25
        }
      ]
    }
  ]
}